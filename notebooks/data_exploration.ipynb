{
 "cells": [
  {
   "cell_type": "code",
   "execution_count": 25,
   "outputs": [
    {
     "ename": "ModuleNotFoundError",
     "evalue": "No module named 'wordcloud'",
     "output_type": "error",
     "traceback": [
      "\u001B[1;31m---------------------------------------------------------------------------\u001B[0m",
      "\u001B[1;31mModuleNotFoundError\u001B[0m                       Traceback (most recent call last)",
      "Input \u001B[1;32mIn [25]\u001B[0m, in \u001B[0;36m<cell line: 4>\u001B[1;34m()\u001B[0m\n\u001B[0;32m      2\u001B[0m \u001B[38;5;28;01mimport\u001B[39;00m \u001B[38;5;21;01mmatplotlib\u001B[39;00m\u001B[38;5;21;01m.\u001B[39;00m\u001B[38;5;21;01mpyplot\u001B[39;00m \u001B[38;5;28;01mas\u001B[39;00m \u001B[38;5;21;01mplt\u001B[39;00m \u001B[38;5;66;03m# For visualizations\u001B[39;00m\n\u001B[0;32m      3\u001B[0m \u001B[38;5;28;01mimport\u001B[39;00m \u001B[38;5;21;01mseaborn\u001B[39;00m \u001B[38;5;28;01mas\u001B[39;00m \u001B[38;5;21;01msns\u001B[39;00m\n\u001B[1;32m----> 4\u001B[0m \u001B[38;5;28;01mfrom\u001B[39;00m \u001B[38;5;21;01mwordcloud\u001B[39;00m \u001B[38;5;28;01mimport\u001B[39;00m WordCloud\n",
      "\u001B[1;31mModuleNotFoundError\u001B[0m: No module named 'wordcloud'"
     ]
    }
   ],
   "source": [
    "import pandas as pd\n",
    "import matplotlib.pyplot as plt # For visualizations\n",
    "import seaborn as sns\n",
    "from wordcloud import WordCloud\n",
    "from bertopic import BERTopic"
   ],
   "metadata": {
    "collapsed": false,
    "pycharm": {
     "name": "#%%\n"
    }
   }
  },
  {
   "cell_type": "markdown",
   "source": [
    "## Import raw dataset"
   ],
   "metadata": {
    "collapsed": false
   }
  },
  {
   "cell_type": "code",
   "execution_count": 9,
   "metadata": {
    "collapsed": true
   },
   "outputs": [
    {
     "data": {
      "text/plain": "   age     status sex orientation       body_type               diet  \\\n0   22     single   m    straight  a little extra  strictly anything   \n1   35     single   m    straight         average       mostly other   \n2   38  available   m    straight            thin           anything   \n3   23     single   m    straight            thin         vegetarian   \n4   29     single   m    straight        athletic                NaN   \n\n     drinks      drugs                          education  \\\n0  socially      never      working on college/university   \n1     often  sometimes              working on space camp   \n2  socially        NaN     graduated from masters program   \n3  socially        NaN      working on college/university   \n4  socially      never  graduated from college/university   \n\n             ethnicity  ...  \\\n0         asian, white  ...   \n1                white  ...   \n2                  NaN  ...   \n3                white  ...   \n4  asian, black, other  ...   \n\n                                              essay0  \\\n0  about me:  i would love to think that i was so...   \n1  i am a chef: this is what that means. 1. i am ...   \n2  i'm not ashamed of much, but writing public te...   \n3          i work in a library and go to school. . .   \n4  hey how's it going? currently vague on the pro...   \n\n                                              essay1  \\\n0  currently working as an international agent fo...   \n1  dedicating everyday to being an unbelievable b...   \n2  i make nerdy software for musicians, artists, ...   \n3          reading things written by old dead people   \n4                         work work work work + play   \n\n                                              essay2  \\\n0  making people laugh. ranting about a good salt...   \n1  being silly. having ridiculous amonts of fun w...   \n2  improvising in different contexts. alternating...   \n3  playing synthesizers and organizing books acco...   \n4  creating imagery to look at: http://bagsbrown....   \n\n                                              essay3  \\\n0  the way i look. i am a six foot half asian, ha...   \n1                                                NaN   \n2  my large jaw and large glasses are the physica...   \n3                  socially awkward but i do my best   \n4            i smile a lot and my inquisitive nature   \n\n                                              essay4  \\\n0  books: absurdistan, the republic, of mice and ...   \n1  i am die hard christopher moore fan. i don't r...   \n2  okay this is where the cultural matrix gets so...   \n3  bataille, celine, beckett. . . lynch, jarmusch...   \n4  music: bands, rappers, musicians at the moment...   \n\n                                              essay5  \\\n0                  food. water. cell phone. shelter.   \n1  delicious porkness in all of its glories. my b...   \n2  movement conversation creation contemplation t...   \n3                                                NaN   \n4                                                NaN   \n\n                        essay6  \\\n0  duality and humorous things   \n1                          NaN   \n2                          NaN   \n3   cats and german philosophy   \n4                          NaN   \n\n                                              essay7  \\\n0  trying to find someone to hang out with. i am ...   \n1                                                NaN   \n2  viewing. listening. dancing. talking. drinking...   \n3                                                NaN   \n4                                                NaN   \n\n                                              essay8  \\\n0  i am new to california and looking for someone...   \n1  i am very open and will share just about anyth...   \n2  when i was five years old, i was known as \"the...   \n3                                                NaN   \n4                                                NaN   \n\n                                              essay9  \n0  you want to be swept off your feet! you are ti...  \n1                                                NaN  \n2  you are bright, open, intense, silly, ironic, ...  \n3                              you feel so inclined.  \n4                                                NaN  \n\n[5 rows x 31 columns]",
      "text/html": "<div>\n<style scoped>\n    .dataframe tbody tr th:only-of-type {\n        vertical-align: middle;\n    }\n\n    .dataframe tbody tr th {\n        vertical-align: top;\n    }\n\n    .dataframe thead th {\n        text-align: right;\n    }\n</style>\n<table border=\"1\" class=\"dataframe\">\n  <thead>\n    <tr style=\"text-align: right;\">\n      <th></th>\n      <th>age</th>\n      <th>status</th>\n      <th>sex</th>\n      <th>orientation</th>\n      <th>body_type</th>\n      <th>diet</th>\n      <th>drinks</th>\n      <th>drugs</th>\n      <th>education</th>\n      <th>ethnicity</th>\n      <th>...</th>\n      <th>essay0</th>\n      <th>essay1</th>\n      <th>essay2</th>\n      <th>essay3</th>\n      <th>essay4</th>\n      <th>essay5</th>\n      <th>essay6</th>\n      <th>essay7</th>\n      <th>essay8</th>\n      <th>essay9</th>\n    </tr>\n  </thead>\n  <tbody>\n    <tr>\n      <th>0</th>\n      <td>22</td>\n      <td>single</td>\n      <td>m</td>\n      <td>straight</td>\n      <td>a little extra</td>\n      <td>strictly anything</td>\n      <td>socially</td>\n      <td>never</td>\n      <td>working on college/university</td>\n      <td>asian, white</td>\n      <td>...</td>\n      <td>about me:  i would love to think that i was so...</td>\n      <td>currently working as an international agent fo...</td>\n      <td>making people laugh. ranting about a good salt...</td>\n      <td>the way i look. i am a six foot half asian, ha...</td>\n      <td>books: absurdistan, the republic, of mice and ...</td>\n      <td>food. water. cell phone. shelter.</td>\n      <td>duality and humorous things</td>\n      <td>trying to find someone to hang out with. i am ...</td>\n      <td>i am new to california and looking for someone...</td>\n      <td>you want to be swept off your feet! you are ti...</td>\n    </tr>\n    <tr>\n      <th>1</th>\n      <td>35</td>\n      <td>single</td>\n      <td>m</td>\n      <td>straight</td>\n      <td>average</td>\n      <td>mostly other</td>\n      <td>often</td>\n      <td>sometimes</td>\n      <td>working on space camp</td>\n      <td>white</td>\n      <td>...</td>\n      <td>i am a chef: this is what that means. 1. i am ...</td>\n      <td>dedicating everyday to being an unbelievable b...</td>\n      <td>being silly. having ridiculous amonts of fun w...</td>\n      <td>NaN</td>\n      <td>i am die hard christopher moore fan. i don't r...</td>\n      <td>delicious porkness in all of its glories. my b...</td>\n      <td>NaN</td>\n      <td>NaN</td>\n      <td>i am very open and will share just about anyth...</td>\n      <td>NaN</td>\n    </tr>\n    <tr>\n      <th>2</th>\n      <td>38</td>\n      <td>available</td>\n      <td>m</td>\n      <td>straight</td>\n      <td>thin</td>\n      <td>anything</td>\n      <td>socially</td>\n      <td>NaN</td>\n      <td>graduated from masters program</td>\n      <td>NaN</td>\n      <td>...</td>\n      <td>i'm not ashamed of much, but writing public te...</td>\n      <td>i make nerdy software for musicians, artists, ...</td>\n      <td>improvising in different contexts. alternating...</td>\n      <td>my large jaw and large glasses are the physica...</td>\n      <td>okay this is where the cultural matrix gets so...</td>\n      <td>movement conversation creation contemplation t...</td>\n      <td>NaN</td>\n      <td>viewing. listening. dancing. talking. drinking...</td>\n      <td>when i was five years old, i was known as \"the...</td>\n      <td>you are bright, open, intense, silly, ironic, ...</td>\n    </tr>\n    <tr>\n      <th>3</th>\n      <td>23</td>\n      <td>single</td>\n      <td>m</td>\n      <td>straight</td>\n      <td>thin</td>\n      <td>vegetarian</td>\n      <td>socially</td>\n      <td>NaN</td>\n      <td>working on college/university</td>\n      <td>white</td>\n      <td>...</td>\n      <td>i work in a library and go to school. . .</td>\n      <td>reading things written by old dead people</td>\n      <td>playing synthesizers and organizing books acco...</td>\n      <td>socially awkward but i do my best</td>\n      <td>bataille, celine, beckett. . . lynch, jarmusch...</td>\n      <td>NaN</td>\n      <td>cats and german philosophy</td>\n      <td>NaN</td>\n      <td>NaN</td>\n      <td>you feel so inclined.</td>\n    </tr>\n    <tr>\n      <th>4</th>\n      <td>29</td>\n      <td>single</td>\n      <td>m</td>\n      <td>straight</td>\n      <td>athletic</td>\n      <td>NaN</td>\n      <td>socially</td>\n      <td>never</td>\n      <td>graduated from college/university</td>\n      <td>asian, black, other</td>\n      <td>...</td>\n      <td>hey how's it going? currently vague on the pro...</td>\n      <td>work work work work + play</td>\n      <td>creating imagery to look at: http://bagsbrown....</td>\n      <td>i smile a lot and my inquisitive nature</td>\n      <td>music: bands, rappers, musicians at the moment...</td>\n      <td>NaN</td>\n      <td>NaN</td>\n      <td>NaN</td>\n      <td>NaN</td>\n      <td>NaN</td>\n    </tr>\n  </tbody>\n</table>\n<p>5 rows × 31 columns</p>\n</div>"
     },
     "execution_count": 9,
     "metadata": {},
     "output_type": "execute_result"
    }
   ],
   "source": [
    "raw_data=pd.read_csv(\"C:/Users/norap/Documents/GitHub/Machine Learning NLP TU Wien/data/raw/okcupid_profiles.csv\")\n",
    "raw_data.head(5)"
   ]
  },
  {
   "cell_type": "code",
   "execution_count": 12,
   "outputs": [
    {
     "data": {
      "text/plain": "<Figure size 432x288 with 1 Axes>",
      "image/png": "[encoded data removed]"
     },
     "metadata": {
      "needs_background": "light"
     },
     "output_type": "display_data"
    }
   ],
   "source": [
    "sns.boxplot(x='sex', y='age', data=raw_data)\n",
    "plt.show()\n",
    "df_essay1 = raw_data[raw_data.essay1.notnull()]"
   ],
   "metadata": {
    "collapsed": false,
    "pycharm": {
     "name": "#%%\n"
    }
   }
  },
  {
   "cell_type": "code",
   "execution_count": 20,
   "outputs": [
    {
     "name": "stdout",
     "output_type": "stream",
     "text": [
      "['currently working as an international agent for a freight forwarding company. import, export, domestic you know the works. online classes and trying to better myself in my free time. perhaps a hours worth of a good book or a video game on a lazy sunday.', 'dedicating everyday to being an unbelievable badass.', \"i make nerdy software for musicians, artists, and experimenters to indulge in their own weirdness, but i like to spend time away from the computer when working on my artwork (which is typically more concerned with group dynamics and communication, than with visual form, objects, or technology). i also record and deejay dance, noise, pop, and experimental music (most of which electronic or at least studio based). besides these relatively ego driven activities, i've been enjoying things like meditation and tai chi to try and gently flirt with ego death.\", 'reading things written by old dead people', 'work work work work + play', \"building awesome stuff. figuring out what's important. having adventures. looking for treasure.\", 'digging up buried treasure', 'writing. meeting new people, spending time with friends, seeing films, going to literary events and lectures, sifting through bookstores and thrift stores, exploring the city. i also work full time at an interactive agency.', \"oh goodness. at the moment i have 4 jobs, so it'd be nice to find one i could settle into. other than that, i'm making sure i'm surrounded by good people and keeping happy and active\", \"i have an apartment. i like to explore and check things out. i like good japanese and peruvian food. nothing beats good ceviche on a hot day. or a hot chai on a cold one.  i've been working on my a.o.d. certification but have stalled out. i'm hoping to pursue art but have yet to find the best venue. recently i've been working on a construction job in belmont. it's not my dream job. but for the time being it affords me other opportunities. plus it keeps me in shape, so i shouldn't complain.\"]\n"
     ]
    }
   ],
   "source": [
    "#Make list of only essay1 strings\n",
    "df_essay1.columns\n",
    "essay_1 = df_essay1[\"essay1\"]\n",
    "essay_1 = list(essay_1)"
   ],
   "metadata": {
    "collapsed": false,
    "pycharm": {
     "name": "#%%\n"
    }
   }
  },
  {
   "cell_type": "code",
   "execution_count": 24,
   "outputs": [
    {
     "data": {
      "text/plain": "['currently working as an international agent for a freight forwarding company. import, export, domestic you know the works. online classes and trying to better myself in my free time. perhaps a hours worth of a good book or a video game on a lazy sunday.',\n 'dedicating everyday to being an unbelievable badass.',\n \"i make nerdy software for musicians, artists, and experimenters to indulge in their own weirdness, but i like to spend time away from the computer when working on my artwork (which is typically more concerned with group dynamics and communication, than with visual form, objects, or technology). i also record and deejay dance, noise, pop, and experimental music (most of which electronic or at least studio based). besides these relatively ego driven activities, i've been enjoying things like meditation and tai chi to try and gently flirt with ego death.\",\n 'reading things written by old dead people',\n 'work work work work + play',\n \"building awesome stuff. figuring out what's important. having adventures. looking for treasure.\",\n 'digging up buried treasure',\n 'writing. meeting new people, spending time with friends, seeing films, going to literary events and lectures, sifting through bookstores and thrift stores, exploring the city. i also work full time at an interactive agency.',\n \"oh goodness. at the moment i have 4 jobs, so it'd be nice to find one i could settle into. other than that, i'm making sure i'm surrounded by good people and keeping happy and active\",\n \"i have an apartment. i like to explore and check things out. i like good japanese and peruvian food. nothing beats good ceviche on a hot day. or a hot chai on a cold one.  i've been working on my a.o.d. certification but have stalled out. i'm hoping to pursue art but have yet to find the best venue. recently i've been working on a construction job in belmont. it's not my dream job. but for the time being it affords me other opportunities. plus it keeps me in shape, so i shouldn't complain.\"]"
     },
     "execution_count": 24,
     "metadata": {},
     "output_type": "execute_result"
    }
   ],
   "source": [
    "#lowercase all essay 1 strings\n",
    "essay_1 = (map(lambda x: x.lower(), essay_1))\n",
    "essay_1 = essay_1.text.to_list()\n",
    "essay_1[0:10]"
   ],
   "metadata": {
    "collapsed": false,
    "pycharm": {
     "name": "#%%\n"
    }
   }
  }
 ],
 "metadata": {
  "kernelspec": {
   "display_name": "Python 3",
   "language": "python",
   "name": "python3"
  },
  "language_info": {
   "codemirror_mode": {
    "name": "ipython",
    "version": 2
   },
   "file_extension": ".py",
   "mimetype": "text/x-python",
   "name": "python",
   "nbconvert_exporter": "python",
   "pygments_lexer": "ipython2",
   "version": "2.7.6"
  }
 },
 "nbformat": 4,
 "nbformat_minor": 0
}